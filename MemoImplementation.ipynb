{
 "cells": [
  {
   "cell_type": "code",
   "execution_count": 1,
   "id": "922217f0-a544-4fc0-99db-162d2d8ac68f",
   "metadata": {},
   "outputs": [
    {
     "ename": "ModuleNotFoundError",
     "evalue": "No module named 'memo'",
     "output_type": "error",
     "traceback": [
      "\u001b[0;31m---------------------------------------------------------------------------\u001b[0m",
      "\u001b[0;31mModuleNotFoundError\u001b[0m                       Traceback (most recent call last)",
      "Cell \u001b[0;32mIn[1], line 1\u001b[0m\n\u001b[0;32m----> 1\u001b[0m \u001b[38;5;28;01mfrom\u001b[39;00m \u001b[38;5;21;01mmemo\u001b[39;00m \u001b[38;5;28;01mimport\u001b[39;00m memo\n",
      "\u001b[0;31mModuleNotFoundError\u001b[0m: No module named 'memo'"
     ]
    }
   ],
   "source": [
    "from memo import memo"
   ]
  },
  {
   "cell_type": "markdown",
   "id": "c961247b-9894-4a1b-8012-0155b3355773",
   "metadata": {},
   "source": [
    "Reference https://github.com/kach/memo for memo installation instructions/guidelines"
   ]
  },
  {
   "cell_type": "code",
   "execution_count": null,
   "id": "f1d0d20a-d406-4d71-998b-beb659909797",
   "metadata": {},
   "outputs": [],
   "source": []
  }
 ],
 "metadata": {
  "kernelspec": {
   "display_name": "Python 3 (ipykernel)",
   "language": "python",
   "name": "python3"
  },
  "language_info": {
   "codemirror_mode": {
    "name": "ipython",
    "version": 3
   },
   "file_extension": ".py",
   "mimetype": "text/x-python",
   "name": "python",
   "nbconvert_exporter": "python",
   "pygments_lexer": "ipython3",
   "version": "3.10.12"
  }
 },
 "nbformat": 4,
 "nbformat_minor": 5
}
